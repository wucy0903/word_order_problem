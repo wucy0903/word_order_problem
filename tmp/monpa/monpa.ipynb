{
 "cells": [
  {
   "cell_type": "code",
   "execution_count": 21,
   "metadata": {},
   "outputs": [],
   "source": [
    "import monpa\n",
    "import requests\n",
    "import json\n",
    "import csv"
   ]
  },
  {
   "cell_type": "code",
   "execution_count": 22,
   "metadata": {},
   "outputs": [],
   "source": [
    "csv_f = open('./jieba_monpa_testing.csv', 'w' , encoding = 'utf-8')\n",
    "csv_w = csv.writer(csv_f)\n",
    "csv_w.writerow(['句子' ,  '分詞工具', '分詞結果'])\n",
    "with open ('./test_sentence.txt', 'r', encoding = 'utf-8') as f:\n",
    "    for s in f.readlines():\n",
    "        sentence = s.strip('\\n')\n",
    "        #mon_res = monpa.cut(sentence)\n",
    "        jie_res = requests.get('http://192.168.10.216/jieba/cut/api/v1.0/'+sentence).text\n",
    "        jie_res = json.loads(jie_res)['cont']\n",
    "        csv_w.writerow([sentence, 'jieba + 自定義辭典', jie_res ])\n",
    "        mon_res = monpa.cut(sentence)\n",
    "        csv_w.writerow([sentence, 'monpa', mon_res])\n",
    "csv_f.close()"
   ]
  },
  {
   "cell_type": "code",
   "execution_count": null,
   "metadata": {},
   "outputs": [],
   "source": []
  }
 ],
 "metadata": {
  "kernelspec": {
   "display_name": "Python 3",
   "language": "python",
   "name": "python3"
  },
  "language_info": {
   "codemirror_mode": {
    "name": "ipython",
    "version": 3
   },
   "file_extension": ".py",
   "mimetype": "text/x-python",
   "name": "python",
   "nbconvert_exporter": "python",
   "pygments_lexer": "ipython3",
   "version": "3.6.8"
  }
 },
 "nbformat": 4,
 "nbformat_minor": 2
}
